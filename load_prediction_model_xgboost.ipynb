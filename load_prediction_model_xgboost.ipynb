{
 "cells": [
  {
   "cell_type": "markdown",
   "metadata": {},
   "source": [
    "## XGBoost Model for Time Series Prediction\n",
    "#### Group Project of Information Retrieval and Data Mining 2016 @ UCL\n",
    "\n",
    "Authors: [Yijing Yang](yijing.yang.15@ucl.ac.uk), Xinyi He, Ying Wen\n",
    "\n",
    "This notebook trains a XGBoost model for load forcasting on [Global Energy Forecasting Competition 2012](https://www.kaggle.com/c/global-energy-forecasting-competition-2012-load-forecasting) dataset with [XGBoost](https://github.com/dmlc/xgboost).\n",
    "\n",
    "Except where otherwise noted, this work is subject to a Creative Common Attribution-NonCommercial 4.0 License. [Details.](https://creativecommons.org/licenses/by-nc/4.0/)\n",
    "\n"
   ]
  },
  {
   "cell_type": "code",
   "execution_count": 1,
   "metadata": {
    "collapsed": true
   },
   "outputs": [],
   "source": [
    "import numpy as np\n",
    "from scipy import stats\n",
    "import pandas as pd\n",
    "import matplotlib.pyplot as plt\n",
    "import datetime\n",
    "import operator\n",
    "import xgboost as xgb\n",
    "from sklearn.metrics import mean_squared_error"
   ]
  },
  {
   "cell_type": "markdown",
   "metadata": {},
   "source": [
    "## Data Processing"
   ]
  },
  {
   "cell_type": "code",
   "execution_count": 2,
   "metadata": {
    "collapsed": false
   },
   "outputs": [],
   "source": [
    "data_load = pd.read_csv('/Users/yangyijing/Desktop/IR_group/data/full_load.csv',header = None)\n",
    "data_load.columns = ['zone1','zone2','zone3','zone4','zone5','zone6','zone7','zone8','zone9','zone10','zone11','zone12','zone13','zone14','zone15','zone16','zone17','zone18','zone19','zone20']\n",
    "data_load = np.log(data_load + 1)\n",
    "time = pd.read_csv('/Users/yangyijing/Desktop/IR_group/data/time_load.csv',header = None)\n",
    "time.columns = ['year','month','day','hour'] "
   ]
  },
  {
   "cell_type": "code",
   "execution_count": 6,
   "metadata": {
    "collapsed": false
   },
   "outputs": [],
   "source": [
    "for i in range(0,len(time)):\n",
    "    if time.ix[i,0] == 0:\n",
    "        time.ix[i,0] = '2004'\n",
    "    if time.ix[i,0] == 1:\n",
    "        time.ix[i,0] = '2005'\n",
    "    if time.ix[i,0] == 2:\n",
    "        time.ix[i,0] = '2006'\n",
    "    if time.ix[i,0] == 3:\n",
    "        time.ix[i,0] = '2007'\n",
    "    if time.ix[i,0] == 4:\n",
    "        time.ix[i,0] = '2008'\n",
    "time1 = time\n",
    "time1['date'] = time1.apply(lambda x:pd.datetime.strptime(\"{0} {1} {2}\".format(x['year'],x['month'], x['day']), '%Y %m %d'),axis=1)\n",
    "time1['date_time'] = pd.to_datetime(time1['date']) + pd.TimedeltaIndex(time1['hour'], unit='H')\n",
    "load_withtime = pd.concat([time1,data_load],axis = 1)"
   ]
  },
  {
   "cell_type": "code",
   "execution_count": 10,
   "metadata": {
    "collapsed": false
   },
   "outputs": [],
   "source": [
    "temp = pd.read_csv('/Users/yangyijing/Desktop/IR_group/data/full_temp.csv',header = None)\n",
    "temp.columns =['station1','station2','station3','station4','station5','station6','station7','station8','station9','station10','station11']\n",
    "load_withtime = pd.concat([load_withtime,temp],axis = 1)"
   ]
  },
  {
   "cell_type": "markdown",
   "metadata": {},
   "source": [
    "#### Split the records based on zone_id"
   ]
  },
  {
   "cell_type": "markdown",
   "metadata": {},
   "source": [
    "This step is the preparation for building time lag features. We split records based on zone_id and generate a new column called 'zone_id'."
   ]
  },
  {
   "cell_type": "code",
   "execution_count": 13,
   "metadata": {
    "collapsed": false
   },
   "outputs": [],
   "source": [
    "def data_zone(i):\n",
    "    t = load_withtime.ix[:,[0,1,2,3,4,5,5+i,-11,-10,-9,-8,-7,-6,-5,-4,-3,-2,-1]]\n",
    "    t.columns = ['year','month','day','hour','date','date_time','load','station1','station2','station3','station4','station5','station6','station7','station8','station9','station10','station11'] \n",
    "    s = [i] * len(t)\n",
    "    t['zone_id'] = s\n",
    "    load = pd.Series(t['load'])\n",
    "    lagload = pd.concat([load.shift(j) for j in range(1,25)],axis=1)\n",
    "    lagload.columns = ['lag_t-%d' %j for j in range(1,25)]\n",
    "    load_lag = pd.concat([t, lagload], axis=1)\n",
    "    l = len(load_lag)\n",
    "    load_lag = load_lag.tail(l - 24)\n",
    "    return load_lag"
   ]
  },
  {
   "cell_type": "code",
   "execution_count": 14,
   "metadata": {
    "collapsed": false,
    "scrolled": true
   },
   "outputs": [
    {
     "name": "stderr",
     "output_type": "stream",
     "text": [
      "/Users/yangyijing/anaconda/lib/python3.5/site-packages/ipykernel/__main__.py:5: SettingWithCopyWarning: \n",
      "A value is trying to be set on a copy of a slice from a DataFrame.\n",
      "Try using .loc[row_indexer,col_indexer] = value instead\n",
      "\n",
      "See the caveats in the documentation: http://pandas.pydata.org/pandas-docs/stable/indexing.html#indexing-view-versus-copy\n"
     ]
    }
   ],
   "source": [
    "t1 = data_zone(1)\n",
    "t2 = data_zone(2)\n",
    "t3 = data_zone(3)\n",
    "t4 = data_zone(4)\n",
    "t5 = data_zone(5)\n",
    "t6 = data_zone(6)\n",
    "t7 = data_zone(7)\n",
    "t8 = data_zone(8)\n",
    "t9 = data_zone(9)\n",
    "t10 = data_zone(10)\n",
    "t11 = data_zone(11)\n",
    "t12 = data_zone(12)\n",
    "t13 = data_zone(13)\n",
    "t14 = data_zone(14)\n",
    "t15 = data_zone(15)\n",
    "t16 = data_zone(16)\n",
    "t17 = data_zone(17)\n",
    "t18 = data_zone(18)\n",
    "t19 = data_zone(19)\n",
    "t20 = data_zone(20)\n",
    "combinezones = pd.concat([t1,t2,t3,t4,t5,t6,t7,t8,t9,t10,t11,t12,t13,t14,t15,t16,t17,t18,t19,t20],axis = 0)"
   ]
  },
  {
   "cell_type": "code",
   "execution_count": 17,
   "metadata": {
    "collapsed": false
   },
   "outputs": [],
   "source": [
    "df = combinezones[combinezones['zone_id'] == 1]\n",
    "df = df.head(39222)\n",
    "for i in range(2,21):\n",
    "    df1 = combinezones[combinezones['zone_id'] == i]\n",
    "    df1 = df1.head(39222)\n",
    "    df = pd.concat([df,df1],axis = 0)\n",
    "    "
   ]
  },
  {
   "cell_type": "markdown",
   "metadata": {
    "collapsed": true
   },
   "source": [
    "#### Feature importance"
   ]
  },
  {
   "cell_type": "markdown",
   "metadata": {},
   "source": [
    "Now, we have lagged loads based on 24 hours as new features. We use XGBoost to test the feature importance of the 24 features. As a result, we can find several most important lag features."
   ]
  },
  {
   "cell_type": "code",
   "execution_count": 18,
   "metadata": {
    "collapsed": true
   },
   "outputs": [],
   "source": [
    "def ceate_feature_map(features):\n",
    "    outfile = open('xgb.fmap', 'w')\n",
    "    i = 0\n",
    "    for feat in features:\n",
    "        outfile.write('{0}\\t{1}\\tq\\n'.format(i, feat))\n",
    "        i = i + 1\n",
    "\n",
    "    outfile.close()"
   ]
  },
  {
   "cell_type": "code",
   "execution_count": 19,
   "metadata": {
    "collapsed": true
   },
   "outputs": [],
   "source": [
    "def get_data(df):\n",
    "    train = df\n",
    "    features = list(df.columns[19:])\n",
    "    y_train = train.load\n",
    "    x_train = train[features]\n",
    "\n",
    "    return features, x_train, y_train"
   ]
  },
  {
   "cell_type": "code",
   "execution_count": 20,
   "metadata": {
    "collapsed": false,
    "scrolled": false
   },
   "outputs": [],
   "source": [
    "features, x_train, y_train = get_data(df)\n",
    "ceate_feature_map(features)\n",
    "\n",
    "xgb_params = {\"objective\": \"reg:linear\", \"eta\": 0.01, \"max_depth\": 8, \"seed\": 42, \"silent\": 1}\n",
    "num_rounds = 500\n",
    "\n",
    "dtrain = xgb.DMatrix(x_train, label=y_train)\n",
    "gbdt = xgb.train(xgb_params, dtrain, num_rounds)\n",
    "\n",
    "importance = gbdt.get_fscore(fmap='xgb.fmap')\n",
    "importance = sorted(importance.items(), key=operator.itemgetter(1))\n",
    "\n",
    "df = pd.DataFrame(importance, columns=['feature', 'fscore'])\n",
    "df['fscore'] = df['fscore'] / df['fscore'].sum()\n",
    "\n",
    "plt.figure()\n",
    "df.plot()\n",
    "df.plot(kind='barh', x='feature', y='fscore', legend=False, figsize=(6, 10))\n",
    "plt.title('XGBoost Feature Importance')\n",
    "plt.xlabel('relative importance')\n",
    "plt.gcf().savefig('feature_importance_xgb.png')"
   ]
  },
  {
   "cell_type": "markdown",
   "metadata": {},
   "source": [
    "#### Transforming categorical variables"
   ]
  },
  {
   "cell_type": "markdown",
   "metadata": {},
   "source": [
    "After feature importance, we select lag1,2,3,24 as the important lag features. Then we need to transform categorical variables,year,month,day,hour,zone_id, to dummies."
   ]
  },
  {
   "cell_type": "code",
   "execution_count": 21,
   "metadata": {
    "collapsed": false
   },
   "outputs": [],
   "source": [
    "data = combinezones.ix[:,[0,1,2,3,5,6,7,8,9,10,11,12,13,14,15,16,17,18,19,20,21,-1]].reset_index()\n",
    "data = data.drop('index',axis = 1)"
   ]
  },
  {
   "cell_type": "code",
   "execution_count": 23,
   "metadata": {
    "collapsed": false
   },
   "outputs": [],
   "source": [
    "# Create and merge binary year features\n",
    "predictBy=1\n",
    "predictBy = -(predictBy-1)\n",
    "year = pd.get_dummies(pd.DatetimeIndex(data.date_time).year, prefix='Year')\n",
    "year = year.set_index(pd.DatetimeIndex(data.date_time))\n",
    "if predictBy != 0:\n",
    "        if predictBy > 0 or type(predictBy) != int:\n",
    "            raise ValueError(\"predictBy must be greater than or equal to 1 and an int. Found predictBy={} and type={}\"\n",
    "                             .format(-(predictBy+1), type(predictBy)))\n",
    "        else:\n",
    "            year = year.shift(predictBy)\n",
    "data = data.set_index('date_time')\n",
    "data = pd.concat([data, year], axis=1)"
   ]
  },
  {
   "cell_type": "code",
   "execution_count": 25,
   "metadata": {
    "collapsed": true
   },
   "outputs": [],
   "source": [
    "# Create and merge binary month features\n",
    "months = pd.get_dummies(pd.DatetimeIndex(data.index).month, prefix='Month')\n",
    "months = months.set_index(pd.DatetimeIndex(data.index))\n",
    "if predictBy != 0:\n",
    "    if predictBy > 0 or type(predictBy) != int:\n",
    "        raise ValueError(\"predictBy must be greater than or equal to 1 and an int. Found predictBy={} and type={}\"\n",
    "                             .format(-(predictBy+1), type(predictBy)))\n",
    "    else:\n",
    "        months = months.shift(predictBy)\n",
    "data = pd.concat([data, months], axis=1)"
   ]
  },
  {
   "cell_type": "code",
   "execution_count": 27,
   "metadata": {
    "collapsed": true
   },
   "outputs": [],
   "source": [
    "# Create and merge binary day features\n",
    "days = pd.get_dummies(pd.DatetimeIndex(data.index).day, prefix='Day')\n",
    "days = days.set_index(pd.DatetimeIndex(data.index))\n",
    "if predictBy != 0:\n",
    "    if predictBy > 0 or type(predictBy) != int:\n",
    "        raise ValueError(\"predictBy must be greater than or equal to 1 and an int. Found predictBy={} and type={}\"\n",
    "                             .format(-(predictBy+1), type(predictBy)))\n",
    "    else:\n",
    "        days = days.shift(predictBy)\n",
    "data = pd.concat([data, days], axis=1)"
   ]
  },
  {
   "cell_type": "code",
   "execution_count": 29,
   "metadata": {
    "collapsed": true
   },
   "outputs": [],
   "source": [
    "# Create and merge binary hour features\n",
    "hours = pd.get_dummies(pd.DatetimeIndex(data.index).hour, prefix='Hour')\n",
    "hours = hours.set_index(pd.DatetimeIndex(data.index))\n",
    "if predictBy != 0:\n",
    "    if predictBy > 0 or type(predictBy) != int:\n",
    "        raise ValueError(\"predictBy must be greater than or equal to 1 and an int. Found predictBy={} and type={}\"\n",
    "                             .format(-(predictBy+1), type(predictBy)))\n",
    "    else:\n",
    "        hours = hours.shift(predictBy)\n",
    "data = pd.concat([data, hours], axis=1)"
   ]
  },
  {
   "cell_type": "code",
   "execution_count": 31,
   "metadata": {
    "collapsed": true
   },
   "outputs": [],
   "source": [
    "# Create and merge binary zone features\n",
    "zones = pd.get_dummies(data.zone_id,prefix='Zone')\n",
    "if predictBy != 0:\n",
    "    if predictBy > 0 or type(predictBy) != int:\n",
    "        raise ValueError(\"predictBy must be greater than or equal to 1 and an int. Found predictBy={} and type={}\"\n",
    "                             .format(-(predictBy+1), type(predictBy)))\n",
    "    else:\n",
    "        zones = zones.shift(predictBy)\n",
    "data = pd.concat([data, zones], axis=1)"
   ]
  },
  {
   "cell_type": "markdown",
   "metadata": {},
   "source": [
    "generate the actual data(records from 23/06/2008 to 30/06/2008) for comparison with our predictions"
   ]
  },
  {
   "cell_type": "code",
   "execution_count": 323,
   "metadata": {
    "collapsed": false
   },
   "outputs": [],
   "source": [
    "data_test = data_load.tail(354).head(168)\n",
    "data_test = np.exp(data_test) - 1\n",
    "data_test = data_test.reset_index()\n",
    "data_test = data_test.drop('index',axis = 1)"
   ]
  },
  {
   "cell_type": "markdown",
   "metadata": {},
   "source": [
    "## Training Model"
   ]
  },
  {
   "cell_type": "markdown",
   "metadata": {},
   "source": [
    "#### Matching temperatures of stations with zones"
   ]
  },
  {
   "cell_type": "markdown",
   "metadata": {},
   "source": [
    "This part is used to match the stations with zones. We train XGBoost model for each zones with all 11 stations. For each time with one station, we get MSE when comparing predictions with acutal data. We consider the stataion with the least MSE as the correct station for the zone and use the temperature of this station to predict the load of this zone."
   ]
  },
  {
   "cell_type": "code",
   "execution_count": 175,
   "metadata": {
    "collapsed": false
   },
   "outputs": [],
   "source": [
    "def data_xgboost(station_id,zone_id):\n",
    "    train = data[data['zone_id'] == zone_id]\n",
    "    features = list(data.columns[17:])\n",
    "    features.append(data.columns[station_id+4])\n",
    "    Y = train.load\n",
    "    X = train[features]\n",
    "    X_train = X.head(39222)\n",
    "    Y_train = Y.head(39222)\n",
    "    X_test = X.tail(354+168).head(168+168)\n",
    "    X_test = X_test.tail(len(X_test)-168)\n",
    "    X_testlag = data.tail(354+168).head(168+168)\n",
    "    return X_train,Y_train,X_testlag,X_test"
   ]
  },
  {
   "cell_type": "code",
   "execution_count": 176,
   "metadata": {
    "collapsed": true
   },
   "outputs": [],
   "source": [
    "def prediction(index,X_train,Y_train,X_testlag,X_test,gbdt):\n",
    "    dtest = xgb.DMatrix(X_test)\n",
    "    ypred = gbdt.predict(dtest)\n",
    "    ypred = ypred[index]\n",
    "    X_testlag.ix[168 + index,4] = ypred\n",
    "    lag = X_testlag['load']\n",
    "    load = pd.Series(lag)\n",
    "    lagload = pd.concat([load.shift(j) for j in [1,2,3,24]],axis=1)\n",
    "    lagload.columns = ['lag_t-%d' %j for j in [1,2,3,24]]\n",
    "    load_lag = pd.concat([load,lagload], axis=1)\n",
    "    test = X_test\n",
    "    load_lag= load_lag.tail(len(load_lag)-168)\n",
    "    test['lag_t-1'] = load_lag['lag_t-1']\n",
    "    test['lag_t-2'] = load_lag['lag_t-2']\n",
    "    test['lag_t-3'] = load_lag['lag_t-3']\n",
    "    test['lag_t-24'] = load_lag['lag_t-24']\n",
    "    return ypred,test,X_testlag\n"
   ]
  },
  {
   "cell_type": "code",
   "execution_count": 177,
   "metadata": {
    "collapsed": false
   },
   "outputs": [],
   "source": [
    "def zone_station(station_id,zone_id):\n",
    "    X_train,Y_train,X_testlag,X_test = data_xgboost(station_id,zone_id)\n",
    "    xgb_params = {\"objective\": \"reg:linear\", \"eta\": 0.01, \"max_depth\": 8, \"seed\": 42, \"silent\": 1}\n",
    "    num_rounds = 1000\n",
    "    dtrain = xgb.DMatrix(X_train, label=Y_train)\n",
    "    gbdt = xgb.train(xgb_params, dtrain, num_rounds)\n",
    "    pre = []\n",
    "    for i in range(0,168):  \n",
    "        ypred,test,testlag = prediction(i,X_train,Y_train,X_testlag,X_test,gbdt)\n",
    "        ypred = np.exp(ypred) - 1\n",
    "        pre.append(ypred)\n",
    "        X_testlag = testlag\n",
    "        X_test = test\n",
    "    return pre"
   ]
  },
  {
   "cell_type": "code",
   "execution_count": 178,
   "metadata": {
    "collapsed": false
   },
   "outputs": [],
   "source": [
    "def fit_zone(zone_id):\n",
    "    mse = []\n",
    "    for i in range(1,12):\n",
    "        pre = zone_station(i,zone_id)\n",
    "        m = ((pre - data_test.ix[:,zone_id-1]) ** 2).mean()\n",
    "        mse.append(m)\n",
    "    return mse"
   ]
  },
  {
   "cell_type": "code",
   "execution_count": 179,
   "metadata": {
    "collapsed": false
   },
   "outputs": [],
   "source": [
    "mse1 = fit_zone(1)"
   ]
  },
  {
   "cell_type": "code",
   "execution_count": 180,
   "metadata": {
    "collapsed": false
   },
   "outputs": [
    {
     "data": {
      "text/plain": [
       "[21270952.80542777,\n",
       " 3927653.8992050355,\n",
       " 18121670.56752389,\n",
       " 22002925.579662774,\n",
       " 19475431.258014724,\n",
       " 8419631.395374523,\n",
       " 12542541.833644276,\n",
       " 18832205.3362693,\n",
       " 15809877.502839724,\n",
       " 9878435.277929336,\n",
       " 11106709.427944656]"
      ]
     },
     "execution_count": 180,
     "metadata": {},
     "output_type": "execute_result"
    }
   ],
   "source": [
    "mse1"
   ]
  },
  {
   "cell_type": "code",
   "execution_count": 181,
   "metadata": {
    "collapsed": false
   },
   "outputs": [
    {
     "data": {
      "text/plain": [
       "[392999315.4694524,\n",
       " 249274255.8481766,\n",
       " 280670680.9364505,\n",
       " 420464942.50753546,\n",
       " 362733863.32131356,\n",
       " 221252753.96372646,\n",
       " 284793706.56537443,\n",
       " 305123177.8136957,\n",
       " 287098076.3789874,\n",
       " 237228090.66902184,\n",
       " 206671079.1043431]"
      ]
     },
     "execution_count": 181,
     "metadata": {},
     "output_type": "execute_result"
    }
   ],
   "source": [
    "mse2 = fit_zone(2)\n",
    "mse2"
   ]
  },
  {
   "cell_type": "code",
   "execution_count": 182,
   "metadata": {
    "collapsed": false,
    "scrolled": true
   },
   "outputs": [
    {
     "data": {
      "text/plain": [
       "[433609966.2443199,\n",
       " 274159245.70301276,\n",
       " 318407590.9105416,\n",
       " 485972255.21537143,\n",
       " 497630909.7235389,\n",
       " 255603428.42413068,\n",
       " 351064111.7350747,\n",
       " 383132785.5359805,\n",
       " 357854719.89796513,\n",
       " 273755473.738232,\n",
       " 246250869.90055284]"
      ]
     },
     "execution_count": 182,
     "metadata": {},
     "output_type": "execute_result"
    }
   ],
   "source": [
    "mse3 = fit_zone(3)\n",
    "mse3"
   ]
  },
  {
   "cell_type": "code",
   "execution_count": 243,
   "metadata": {
    "collapsed": false
   },
   "outputs": [
    {
     "data": {
      "text/plain": [
       "[155327.34163537849,\n",
       " 168043.3274320794,\n",
       " 156496.7434227795,\n",
       " 163957.2337537399,\n",
       " 151713.83484553505,\n",
       " 168533.45339572334,\n",
       " 168609.24686965984,\n",
       " 165972.18801073532,\n",
       " 147877.59308559677,\n",
       " 169944.55046247618,\n",
       " 165121.26244331436]"
      ]
     },
     "execution_count": 243,
     "metadata": {},
     "output_type": "execute_result"
    }
   ],
   "source": [
    "mse4 = fit_zone(4)\n",
    "mse4"
   ]
  },
  {
   "cell_type": "code",
   "execution_count": 244,
   "metadata": {
    "collapsed": false
   },
   "outputs": [
    {
     "data": {
      "text/plain": [
       "[3107361.7154635256,\n",
       " 1711032.8410049293,\n",
       " 2186285.1662513707,\n",
       " 3543525.8156238594,\n",
       " 2413399.3343559727,\n",
       " 2562802.997875697,\n",
       " 1590116.060498284,\n",
       " 3155075.558573044,\n",
       " 2162558.3221690455,\n",
       " 2516188.5055949907,\n",
       " 1342579.7630209592]"
      ]
     },
     "execution_count": 244,
     "metadata": {},
     "output_type": "execute_result"
    }
   ],
   "source": [
    "mse5 = fit_zone(5)\n",
    "mse5"
   ]
  },
  {
   "cell_type": "code",
   "execution_count": 245,
   "metadata": {
    "collapsed": false
   },
   "outputs": [
    {
     "data": {
      "text/plain": [
       "[473633123.9924499,\n",
       " 263592376.41835228,\n",
       " 269190145.73303205,\n",
       " 501647250.1424596,\n",
       " 455931423.42795354,\n",
       " 260082638.10179323,\n",
       " 390149162.7630609,\n",
       " 331033477.9336039,\n",
       " 350951883.85667086,\n",
       " 248267388.66798392,\n",
       " 159214491.42981917]"
      ]
     },
     "execution_count": 245,
     "metadata": {},
     "output_type": "execute_result"
    }
   ],
   "source": [
    "mse6 = fit_zone(6)\n",
    "mse6"
   ]
  },
  {
   "cell_type": "code",
   "execution_count": 246,
   "metadata": {
    "collapsed": false
   },
   "outputs": [
    {
     "data": {
      "text/plain": [
       "[433609966.2443199,\n",
       " 274159245.70301276,\n",
       " 318407590.9105416,\n",
       " 485972255.21537143,\n",
       " 497630909.7235389,\n",
       " 255603428.42413068,\n",
       " 351064111.7350747,\n",
       " 383132785.5359805,\n",
       " 357854719.89796513,\n",
       " 273755473.738232,\n",
       " 246250869.90055284]"
      ]
     },
     "execution_count": 246,
     "metadata": {},
     "output_type": "execute_result"
    }
   ],
   "source": [
    "mse7 = fit_zone(7)\n",
    "mse7"
   ]
  },
  {
   "cell_type": "code",
   "execution_count": 247,
   "metadata": {
    "collapsed": false
   },
   "outputs": [
    {
     "data": {
      "text/plain": [
       "[326985.0045926078,\n",
       " 157647.8759511372,\n",
       " 268429.33310787333,\n",
       " 328184.81575939927,\n",
       " 294851.3494319672,\n",
       " 253689.18290295775,\n",
       " 205091.79513037528,\n",
       " 252298.05897135075,\n",
       " 214043.941442838,\n",
       " 237374.21393530504,\n",
       " 175156.47503426313]"
      ]
     },
     "execution_count": 247,
     "metadata": {},
     "output_type": "execute_result"
    }
   ],
   "source": [
    "mse8 = fit_zone(8)\n",
    "mse8"
   ]
  },
  {
   "cell_type": "code",
   "execution_count": 248,
   "metadata": {
    "collapsed": false
   },
   "outputs": [
    {
     "data": {
      "text/plain": [
       "[318402756.371569,\n",
       " 310295108.65602887,\n",
       " 377846523.96056557,\n",
       " 291659701.4955377,\n",
       " 311736911.91899586,\n",
       " 289928971.03480136,\n",
       " 326421974.8833237,\n",
       " 329569987.6404961,\n",
       " 468226531.81805956,\n",
       " 292716362.3081562,\n",
       " 382525882.9385512]"
      ]
     },
     "execution_count": 248,
     "metadata": {},
     "output_type": "execute_result"
    }
   ],
   "source": [
    "mse9 = fit_zone(9)\n",
    "mse9"
   ]
  },
  {
   "cell_type": "code",
   "execution_count": 249,
   "metadata": {
    "collapsed": false
   },
   "outputs": [
    {
     "data": {
      "text/plain": [
       "[2138115430.3176327,\n",
       " 2647096352.0681014,\n",
       " 2617999483.9701447,\n",
       " 2555747620.3655305,\n",
       " 2658368073.8178506,\n",
       " 2665798574.7475104,\n",
       " 2579333664.600109,\n",
       " 2601950167.214591,\n",
       " 2662031569.4605217,\n",
       " 2638980411.2825646,\n",
       " 2671652631.333048]"
      ]
     },
     "execution_count": 249,
     "metadata": {},
     "output_type": "execute_result"
    }
   ],
   "source": [
    "mse10 = fit_zone(10)\n",
    "mse10"
   ]
  },
  {
   "cell_type": "code",
   "execution_count": 250,
   "metadata": {
    "collapsed": false
   },
   "outputs": [
    {
     "data": {
      "text/plain": [
       "[182652317.50432193,\n",
       " 1559040211.8469188,\n",
       " 190481363.29324314,\n",
       " 339817228.66322994,\n",
       " 291802216.56015,\n",
       " 605460607.5666136,\n",
       " 642436518.166125,\n",
       " 374915100.22330266,\n",
       " 454979694.24576515,\n",
       " 586971237.9855677,\n",
       " 1352435109.2712781]"
      ]
     },
     "execution_count": 250,
     "metadata": {},
     "output_type": "execute_result"
    }
   ],
   "source": [
    "mse11 = fit_zone(11)\n",
    "mse11"
   ]
  },
  {
   "cell_type": "code",
   "execution_count": 251,
   "metadata": {
    "collapsed": false
   },
   "outputs": [
    {
     "data": {
      "text/plain": [
       "[816121302.622349,\n",
       " 4602955426.223239,\n",
       " 373901565.0030951,\n",
       " 1719146934.311291,\n",
       " 636070932.5243165,\n",
       " 3405121294.1647573,\n",
       " 2251249556.0268316,\n",
       " 1551764031.9099965,\n",
       " 1923317299.3634615,\n",
       " 2753304487.227988,\n",
       " 3803719432.358491]"
      ]
     },
     "execution_count": 251,
     "metadata": {},
     "output_type": "execute_result"
    }
   ],
   "source": [
    "mse12 = fit_zone(12)\n",
    "mse12"
   ]
  },
  {
   "cell_type": "code",
   "execution_count": 252,
   "metadata": {
    "collapsed": false
   },
   "outputs": [
    {
     "data": {
      "text/plain": [
       "[21025961.783017185,\n",
       " 6465778.65945715,\n",
       " 17461109.56695033,\n",
       " 22646926.402513135,\n",
       " 17628211.841774818,\n",
       " 11653729.483474161,\n",
       " 10061744.709833344,\n",
       " 19228820.489822112,\n",
       " 13342301.722694837,\n",
       " 10441142.012077795,\n",
       " 7005695.559240286]"
      ]
     },
     "execution_count": 252,
     "metadata": {},
     "output_type": "execute_result"
    }
   ],
   "source": [
    "mse13 = fit_zone(13)\n",
    "mse13"
   ]
  },
  {
   "cell_type": "code",
   "execution_count": 253,
   "metadata": {
    "collapsed": false
   },
   "outputs": [
    {
     "data": {
      "text/plain": [
       "[7254727.993312182,\n",
       " 21780740.72786538,\n",
       " 8050108.445405632,\n",
       " 6293393.204260754,\n",
       " 8420109.938435014,\n",
       " 7776772.407155903,\n",
       " 8339379.877752161,\n",
       " 6794406.074812086,\n",
       " 7309943.16821764,\n",
       " 8491224.298802694,\n",
       " 15355356.231732098]"
      ]
     },
     "execution_count": 253,
     "metadata": {},
     "output_type": "execute_result"
    }
   ],
   "source": [
    "mse14 = fit_zone(14)\n",
    "mse14"
   ]
  },
  {
   "cell_type": "code",
   "execution_count": 254,
   "metadata": {
    "collapsed": false
   },
   "outputs": [
    {
     "data": {
      "text/plain": [
       "[239581180.54342836,\n",
       " 281307666.60536397,\n",
       " 242281771.8825172,\n",
       " 163857704.08976027,\n",
       " 281456200.6455739,\n",
       " 164195332.0316177,\n",
       " 224540483.3030723,\n",
       " 142981255.08335012,\n",
       " 240972218.8831353,\n",
       " 149923900.44419545,\n",
       " 344537369.0185592]"
      ]
     },
     "execution_count": 254,
     "metadata": {},
     "output_type": "execute_result"
    }
   ],
   "source": [
    "mse15 = fit_zone(15)\n",
    "mse15"
   ]
  },
  {
   "cell_type": "code",
   "execution_count": 255,
   "metadata": {
    "collapsed": false
   },
   "outputs": [
    {
     "data": {
      "text/plain": [
       "[9030183.883793607,\n",
       " 57717641.66828687,\n",
       " 7087420.662493124,\n",
       " 11395228.724334737,\n",
       " 7772363.263351134,\n",
       " 21783161.113339756,\n",
       " 15589746.281293914,\n",
       " 9428809.056999117,\n",
       " 11032435.793432236,\n",
       " 18358360.337781712,\n",
       " 33793895.04063553]"
      ]
     },
     "execution_count": 255,
     "metadata": {},
     "output_type": "execute_result"
    }
   ],
   "source": [
    "mse16 = fit_zone(16)\n",
    "mse16"
   ]
  },
  {
   "cell_type": "code",
   "execution_count": 256,
   "metadata": {
    "collapsed": false
   },
   "outputs": [
    {
     "data": {
      "text/plain": [
       "[11079495.08232228,\n",
       " 15828984.768230217,\n",
       " 9785031.754987868,\n",
       " 8758832.698415779,\n",
       " 11899343.973843459,\n",
       " 5424060.033943743,\n",
       " 8119351.585552146,\n",
       " 6859097.070451848,\n",
       " 8065537.535505201,\n",
       " 5703442.744417916,\n",
       " 14214847.068800347]"
      ]
     },
     "execution_count": 256,
     "metadata": {},
     "output_type": "execute_result"
    }
   ],
   "source": [
    "mse17 = fit_zone(17)\n",
    "mse17"
   ]
  },
  {
   "cell_type": "code",
   "execution_count": 257,
   "metadata": {
    "collapsed": false
   },
   "outputs": [
    {
     "data": {
      "text/plain": [
       "[1438385165.849941,\n",
       " 3077555521.2414136,\n",
       " 1302939299.8252237,\n",
       " 2140505312.558862,\n",
       " 2038107924.5151875,\n",
       " 1872511059.3027067,\n",
       " 1999377143.3373427,\n",
       " 1691966895.3661199,\n",
       " 1955689498.2139997,\n",
       " 1993838400.5300016,\n",
       " 2913478856.522496]"
      ]
     },
     "execution_count": 257,
     "metadata": {},
     "output_type": "execute_result"
    }
   ],
   "source": [
    "mse18 = fit_zone(18)\n",
    "mse18"
   ]
  },
  {
   "cell_type": "code",
   "execution_count": 258,
   "metadata": {
    "collapsed": false
   },
   "outputs": [
    {
     "data": {
      "text/plain": [
       "[583721115.6792753,\n",
       " 647232114.556185,\n",
       " 568582995.7399657,\n",
       " 525984584.73740286,\n",
       " 640658283.5762403,\n",
       " 366102864.1813942,\n",
       " 455674934.63970554,\n",
       " 413035240.37604994,\n",
       " 497307390.45445824,\n",
       " 388109017.3767198,\n",
       " 726446323.200489]"
      ]
     },
     "execution_count": 258,
     "metadata": {},
     "output_type": "execute_result"
    }
   ],
   "source": [
    "mse19 = fit_zone(19)\n",
    "mse19"
   ]
  },
  {
   "cell_type": "code",
   "execution_count": 259,
   "metadata": {
    "collapsed": false
   },
   "outputs": [
    {
     "data": {
      "text/plain": [
       "[3280938785.6571865,\n",
       " 3023055272.304011,\n",
       " 3259010216.7908034,\n",
       " 3070343253.6242156,\n",
       " 3300624823.0070605,\n",
       " 3182229323.254192,\n",
       " 3143042210.8285456,\n",
       " 3216596835.239583,\n",
       " 3259491106.3356524,\n",
       " 3172313365.5962057,\n",
       " 2757424096.696284]"
      ]
     },
     "execution_count": 259,
     "metadata": {},
     "output_type": "execute_result"
    }
   ],
   "source": [
    "mse20 = fit_zone(20)\n",
    "mse20"
   ]
  },
  {
   "cell_type": "markdown",
   "metadata": {},
   "source": [
    "## Testing"
   ]
  },
  {
   "cell_type": "markdown",
   "metadata": {},
   "source": [
    "#### After matching the stations and zones, we use the corresponding temperatures as one of the features for predictions of testing data."
   ]
  },
  {
   "cell_type": "code",
   "execution_count": 260,
   "metadata": {
    "collapsed": true
   },
   "outputs": [],
   "source": [
    "pre1 = zone_station(2,1)\n",
    "pre2 = zone_station(11,2)\n",
    "pre3 = zone_station(11,3)\n",
    "pre4 = zone_station(9,4)\n",
    "pre5 = zone_station(11,5)\n",
    "pre6 = zone_station(11,6)\n",
    "pre7 = zone_station(11,7)\n",
    "pre8 = zone_station(2,8)\n",
    "pre9 = zone_station(6,9)\n",
    "pre10 = zone_station(1,10)\n",
    "pre11 = zone_station(1,11)\n",
    "pre12 = zone_station(3,12)\n",
    "pre13 = zone_station(2,13)\n",
    "pre14 = zone_station(4,14)\n",
    "pre15 = zone_station(8,15)\n",
    "pre16 = zone_station(3,16)\n",
    "pre17 = zone_station(6,17)\n",
    "pre18 = zone_station(3,18)\n",
    "pre19 = zone_station(6,19)\n",
    "pre20 = zone_station(11,20)"
   ]
  },
  {
   "cell_type": "code",
   "execution_count": 326,
   "metadata": {
    "collapsed": false
   },
   "outputs": [],
   "source": [
    "pred_future = pd.DataFrame({'pre1' : pre1,\n",
    " 'pre2':pre2,\n",
    " 'pre3':pre3,\n",
    " 'pre4':pre4,               \n",
    " 'pre5':pre5,\n",
    " 'pre6':pre6,\n",
    " 'pre7':pre7,\n",
    " 'pre8':pre8,\n",
    " 'pre9':pre9,\n",
    " 'pre10':pre10,\n",
    " 'pre11':pre11,\n",
    " 'pre12':pre12,\n",
    " 'pre13':pre13,\n",
    " 'pre14':pre14,\n",
    " 'pre15':pre15,\n",
    " 'pre16':pre16,\n",
    " 'pre17':pre17,\n",
    " 'pre18':pre18,\n",
    " 'pre19':pre19,\n",
    " 'pre20':pre20})\n",
    "pred_future = pred_future.ix[:,[0,11,13,14,15,16,17,18,19,1,2,3,4,5,6,7,8,9,10,12]]\n",
    "pred_future.columns=['zone1','zone2','zone3','zone4','zone5','zone6','zone7','zone8','zone9','zone10','zone11','zone12','zone13','zone14','zone15','zone16','zone17','zone18','zone19','zone20']"
   ]
  },
  {
   "cell_type": "code",
   "execution_count": 324,
   "metadata": {
    "collapsed": false
   },
   "outputs": [],
   "source": [
    "b = data_test"
   ]
  },
  {
   "cell_type": "code",
   "execution_count": 332,
   "metadata": {
    "collapsed": false
   },
   "outputs": [
    {
     "name": "stdout",
     "output_type": "stream",
     "text": [
      "rsme: 50456.8166504\n"
     ]
    }
   ],
   "source": [
    "from sklearn.metrics import mean_squared_error\n",
    "temp = np.zeros((len(pred_future),1))\n",
    "temp1 = np.zeros((len(pred_future),1))\n",
    "for i in range(len(pred_future)):\n",
    "    temp[i][0] = np.sum(pred_future.ix[i,:])\n",
    "    temp1[i][0] = np.sum(b.ix[i,:])\n",
    "pred_future = np.concatenate((pred_future,temp),axis=1)\n",
    "b = np.concatenate((b,temp1),axis=1)\n",
    "rsme = np.sqrt(mean_squared_error(b, pred_future))\n",
    "print('rsme:',rsme)"
   ]
  }
 ],
 "metadata": {
  "kernelspec": {
   "display_name": "Python 2",
   "language": "python",
   "name": "python2"
  },
  "language_info": {
   "codemirror_mode": {
    "name": "ipython",
    "version": 2
   },
   "file_extension": ".py",
   "mimetype": "text/x-python",
   "name": "python",
   "nbconvert_exporter": "python",
   "pygments_lexer": "ipython2",
   "version": "2.7.10"
  }
 },
 "nbformat": 4,
 "nbformat_minor": 0
}
