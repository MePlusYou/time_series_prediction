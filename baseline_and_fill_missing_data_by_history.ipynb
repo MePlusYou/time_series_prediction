{
 "cells": [
  {
   "cell_type": "code",
   "execution_count": 1,
   "metadata": {
    "collapsed": false
   },
   "outputs": [
    {
     "name": "stderr",
     "output_type": "stream",
     "text": [
      "Using Theano backend.\n"
     ]
    }
   ],
   "source": [
    "from __future__ import print_function\n",
    "import numpy as np\n",
    "import matplotlib.pyplot as plt\n",
    "from load_data import read_load_history, read_temperature_history, normalization, de_normalization"
   ]
  },
  {
   "cell_type": "code",
   "execution_count": 2,
   "metadata": {
    "collapsed": false
   },
   "outputs": [
    {
     "name": "stdout",
     "output_type": "stream",
     "text": [
      "Loading Data\n"
     ]
    }
   ],
   "source": [
    "print('Loading Data')\n",
    "length_temperature, time_temperature, temperature = read_temperature_history()\n",
    "length_load, time_load, load = read_load_history(if_full=True)"
   ]
  },
  {
   "cell_type": "code",
   "execution_count": 3,
   "metadata": {
    "collapsed": false
   },
   "outputs": [],
   "source": [
    "temperature = temperature.reshape((len(temperature),11))\n",
    "time_temperature = time_temperature.reshape((len(time_temperature),4))\n",
    "load = load.reshape((len(load),20))"
   ]
  },
  {
   "cell_type": "code",
   "execution_count": 4,
   "metadata": {
    "collapsed": false
   },
   "outputs": [],
   "source": [
    "t = temperature[0:39414]\n",
    "tt = time_temperature[0:39414]\n",
    "l = load[0:39414]"
   ]
  },
  {
   "cell_type": "code",
   "execution_count": 5,
   "metadata": {
    "collapsed": false
   },
   "outputs": [],
   "source": [
    "# uses history average to fill the missing data\n",
    "step_size = 365 * 24\n",
    "for i in range(168+18):\n",
    "    index  = len(t)\n",
    "    temp = np.zeros((1,11))\n",
    "    time = np.zeros((1,4))\n",
    "    time  = np.add(time,tt[index - step_size - 24])\n",
    "    time[0][0] += 1\n",
    "    load_temp = np.zeros((1,20))\n",
    "    load_temp = np.add(load_temp,l[index - 7*24])\n",
    "    l = np.append(l,load_temp,axis=0)\n",
    "    tt = np.append(tt,time,axis=0)\n",
    "    for j in range(1,5):\n",
    "        previous_index = index - j*step_size - 24\n",
    "        previous_temp = t[previous_index]\n",
    "        temp = np.add(temp,previous_temp)\n",
    "    temp = temp/4\n",
    "    t = np.append(t,temp,axis=0)"
   ]
  },
  {
   "cell_type": "code",
   "execution_count": 6,
   "metadata": {
    "collapsed": false
   },
   "outputs": [],
   "source": [
    "import pandas as pd\n",
    "df_t = pd.DataFrame(t)\n",
    "df_t.to_csv('./data/full_temp.csv', header=False, index=False)\n",
    "df_tt = pd.DataFrame(tt)\n",
    "df_tt.to_csv('./data/full_temp_time.csv', header=False, index=False)\n",
    "df_l = pd.DataFrame(l)\n",
    "df_l.to_csv('./data/full_load.csv', header=False, index=False)"
   ]
  },
  {
   "cell_type": "code",
   "execution_count": 22,
   "metadata": {
    "collapsed": true
   },
   "outputs": [],
   "source": [
    "# baseline uses previous years' load history average\n",
    "t = temperature[0:39414 - 168]\n",
    "tt = time_temperature[0:39414 - 168]\n",
    "l = load[0:39414-168]\n",
    "step_size = 365 * 24\n",
    "for i in range(168):\n",
    "    index  = len(t)\n",
    "    load_temp = np.zeros((1,20))\n",
    "    for j in range(1,5):\n",
    "        previous_index = index - j*step_size - 24\n",
    "        previous_temp = l[previous_index]\n",
    "        load_temp = np.add(load_temp,previous_temp)\n",
    "    load_temp = load_temp/4\n",
    "    l = np.append(l,load_temp,axis=0)"
   ]
  },
  {
   "cell_type": "code",
   "execution_count": 23,
   "metadata": {
    "collapsed": false
   },
   "outputs": [
    {
     "name": "stdout",
     "output_type": "stream",
     "text": [
      "39414\n",
      "rsme: 167462.797639\n"
     ]
    }
   ],
   "source": [
    "# baseline uses previous years' load history average\n",
    "print(len(l))\n",
    "from load_data import read_benchmark\n",
    "import pandas as pd\n",
    "predicted_output = l\n",
    "benchmark = load[0:39414][-1-168:-1]\n",
    "from sklearn.metrics import mean_squared_error\n",
    "pred_future = predicted_output[-1-168:-1]\n",
    "temp = np.zeros((len(pred_future),1))\n",
    "benchmark_temp = np.zeros((len(benchmark),1))\n",
    "for i in range(len(pred_future)):\n",
    "    temp[i][0] = np.sum(pred_future[i])\n",
    "    benchmark_temp[i][0] = np.sum(benchmark[i])\n",
    "pred_future = np.concatenate((pred_future,temp),axis=1)\n",
    "benchmark = np.concatenate((benchmark,benchmark_temp),axis=1)\n",
    "rsme = np.sqrt(mean_squared_error(benchmark, pred_future))\n",
    "print('rsme:',rsme)"
   ]
  },
  {
   "cell_type": "code",
   "execution_count": 24,
   "metadata": {
    "collapsed": true
   },
   "outputs": [],
   "source": [
    "# baseline uses previous week's load as prediction \n",
    "t = temperature[0:39414 - 168]\n",
    "tt = time_temperature[0:39414 - 168]\n",
    "l = load[0:39414 - 168]\n",
    "step_size = 7 * 24\n",
    "for i in range(168):\n",
    "    index  = len(t)\n",
    "    load_temp = np.zeros((1,20))\n",
    "    previous_index = index - j*step_size\n",
    "    previous_temp = l[previous_index]\n",
    "    load_temp = np.add(load_temp,previous_temp)\n",
    "    l = np.append(l,load_temp,axis=0)"
   ]
  },
  {
   "cell_type": "code",
   "execution_count": 25,
   "metadata": {
    "collapsed": false
   },
   "outputs": [
    {
     "name": "stdout",
     "output_type": "stream",
     "text": [
      "39414\n",
      "rsme: 227129.421051\n"
     ]
    }
   ],
   "source": [
    "# baseline uses previous week's load as prediction \n",
    "print(len(l))\n",
    "from load_data import read_benchmark\n",
    "import pandas as pd\n",
    "predicted_output = l\n",
    "benchmark = load[0:39414][-1-168:-1]\n",
    "from sklearn.metrics import mean_squared_error\n",
    "pred_future = predicted_output[-1-168:-1]\n",
    "temp = np.zeros((len(pred_future),1))\n",
    "benchmark_temp = np.zeros((len(benchmark),1))\n",
    "for i in range(len(pred_future)):\n",
    "    temp[i][0] = np.sum(pred_future[i])\n",
    "    benchmark_temp[i][0] = np.sum(benchmark[i])\n",
    "pred_future = np.concatenate((pred_future,temp),axis=1)\n",
    "benchmark = np.concatenate((benchmark,benchmark_temp),axis=1)\n",
    "rsme = np.sqrt(mean_squared_error(benchmark, pred_future))\n",
    "print('rsme:',rsme)"
   ]
  },
  {
   "cell_type": "code",
   "execution_count": null,
   "metadata": {
    "collapsed": true
   },
   "outputs": [],
   "source": []
  }
 ],
 "metadata": {
  "kernelspec": {
   "display_name": "Python 2",
   "language": "python",
   "name": "python2"
  },
  "language_info": {
   "codemirror_mode": {
    "name": "ipython",
    "version": 2
   },
   "file_extension": ".py",
   "mimetype": "text/x-python",
   "name": "python",
   "nbconvert_exporter": "python",
   "pygments_lexer": "ipython2",
   "version": "2.7.6"
  }
 },
 "nbformat": 4,
 "nbformat_minor": 0
}
